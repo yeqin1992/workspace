{
 "cells": [
  {
   "cell_type": "code",
   "execution_count": 1,
   "metadata": {
    "collapsed": false
   },
   "outputs": [],
   "source": [
    "from matplotlib import pyplot, cm\n",
    "import numpy\n",
    "%matplotlib inline\n",
    "from matplotlib import rcParams\n",
    "rcParams['font.family'] = 'serif'\n",
    "rcParams['font.size'] = 16"
   ]
  },
  {
   "cell_type": "code",
   "execution_count": 2,
   "metadata": {
    "collapsed": true
   },
   "outputs": [],
   "source": [
    "nx = 41\n",
    "ny = 41\n",
    "\n",
    "l = 1.\n",
    "h = 1.\n",
    "\n",
    "u = numpy.ones(nx)\n",
    "u[-1] = 0\n",
    "\n",
    "dx = l/(nx-1)\n",
    "dy = h/(ny-1)\n",
    "\n",
    "l1_target = 1e-6"
   ]
  },
  {
   "cell_type": "code",
   "execution_count": 3,
   "metadata": {
    "collapsed": true
   },
   "outputs": [],
   "source": [
    "def L1norm(new, old):\n",
    "    norm = numpy.sum(numpy.abs(new-old))\n",
    "    return norm"
   ]
  },
  {
   "cell_type": "code",
   "execution_count": 4,
   "metadata": {
    "collapsed": false
   },
   "outputs": [],
   "source": [
    "psi = numpy.zeros((nx,ny))\n",
    "omega = numpy.zeros((nx,ny))\n",
    "\n",
    "x = numpy.linspace(0,l,nx)\n",
    "y = numpy.linspace(0,h,ny)\n",
    "\n",
    "omega[-1,1:-1] = - 3*u[1:-1]/dy - 1/2/dy**2*(8*psi[-2,1:-1] - psi[-3,1:-1])"
   ]
  },
  {
   "cell_type": "code",
   "execution_count": 5,
   "metadata": {
    "collapsed": true
   },
   "outputs": [],
   "source": [
    "def SolveStokesFlow(psi, u, l1_target):\n",
    "        \n",
    "    l1norm = 1\n",
    "    \n",
    "    while l1norm > l1_target:\n",
    "                \n",
    "        psid = psi.copy()\n",
    "        psi[1:-1,1:-1] = 1/(2*(dx**2 + dy**2)) * ((psid[1:-1,2:] + psid[1:-1,:-2])*dy**2 + (psid[2:,1:-1] + psid[:-2,1:-1])*dx**2 + omega[1:-1,1:-1]*dx**2*dy**2)\n",
    "        \n",
    "        omegan = omega.copy()\n",
    "        omega[1:-1,1:-1] = 0.25 * (omegan[1:-1,2:] + omegan[1:-1, :-2]+ omegan[2:, 1:-1] + omegan[:-2, 1:-1])   \n",
    "        \n",
    "        #B.C.\n",
    "        omega[-1,1:-1] = - 3*u[1:-1]/dy - 1/2/dy**2*(8*psi[-2,1:-1] - psi[-3,1:-1])\n",
    "        omega[0,1:-1] = - 1/2/dy**2*(8*psi[1,1:-1] - psi[2,1:-1])\n",
    "        omega[1:-1,-1] = - 1/2/dx**2*(8*psi[1:-1,-2] - psi[1:-1,-3])\n",
    "        omega[1:-1,0] = - 1/2/dx**2*(8*psi[1:-1,1] - psi[1:-1,2])\n",
    "        \n",
    "        l1norm = max(L1norm(omega, omegan), L1norm(psi, psid))\n",
    "         \n",
    "    return psi, omega"
   ]
  },
  {
   "cell_type": "code",
   "execution_count": 6,
   "metadata": {
    "collapsed": false
   },
   "outputs": [
    {
     "name": "stdout",
     "output_type": "stream",
     "text": [
      "[ 0.     -0.0575 -0.0944 -0.0944 -0.0575  0.    ]\n"
     ]
    }
   ],
   "source": [
    "psi, omega = SolveStokesFlow(psi, u, l1_target)\n",
    "print(numpy.round(psi[32,::8], 4))"
   ]
  },
  {
   "cell_type": "code",
   "execution_count": 7,
   "metadata": {
    "collapsed": false
   },
   "outputs": [
    {
     "data": {
      "image/png": "[encoded data removed]",
      "text/plain": [
       "<matplotlib.figure.Figure at 0x7fd7a61abe80>"
      ]
     },
     "metadata": {},
     "output_type": "display_data"
    }
   ],
   "source": [
    "pyplot.figure(figsize=(7,7))\n",
    "pyplot.contourf(x,y,psi,10, cmap=cm.viridis);"
   ]
  },
  {
   "cell_type": "code",
   "execution_count": 8,
   "metadata": {
    "collapsed": false
   },
   "outputs": [
    {
     "name": "stdout",
     "output_type": "stream",
     "text": [
      "The maximum value of |ψ| within the cavity is 0.0998\n"
     ]
    }
   ],
   "source": [
    "print('The maximum value of |ψ| within the cavity is {:.4f}'. format(numpy.amax(numpy.abs(psi))))"
   ]
  },
  {
   "cell_type": "code",
   "execution_count": 9,
   "metadata": {
    "collapsed": false
   },
   "outputs": [
    {
     "name": "stdout",
     "output_type": "stream",
     "text": [
      "The maximum value of |ω| within the cavity is 78.1927\n"
     ]
    }
   ],
   "source": [
    "print('The maximum value of |ω| within the cavity is {:.4f}'. format(numpy.amax(numpy.abs(omega))))"
   ]
  },
  {
   "cell_type": "code",
   "execution_count": null,
   "metadata": {
    "collapsed": true
   },
   "outputs": [],
   "source": []
  }
 ],
 "metadata": {
  "kernelspec": {
   "display_name": "Python 3",
   "language": "python",
   "name": "python3"
  },
  "language_info": {
   "codemirror_mode": {
    "name": "ipython",
    "version": 3
   },
   "file_extension": ".py",
   "mimetype": "text/x-python",
   "name": "python",
   "nbconvert_exporter": "python",
   "pygments_lexer": "ipython3",
   "version": "3.4.3"
  }
 },
 "nbformat": 4,
 "nbformat_minor": 0
}
