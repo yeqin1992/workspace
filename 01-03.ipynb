{
 "cells": [
  {
   "cell_type": "code",
   "execution_count": 1,
   "metadata": {
    "collapsed": true
   },
   "outputs": [],
   "source": [
    "from math import sin, cos, log, ceil\n",
    "import numpy\n",
    "from matplotlib import pyplot\n",
    "%matplotlib inline\n",
    "from matplotlib import rcParams\n",
    "rcParams['font.family'] = 'serif'\n",
    "rcParams['font.size'] = 16"
   ]
  },
  {
   "cell_type": "code",
   "execution_count": 2,
   "metadata": {
    "collapsed": true
   },
   "outputs": [],
   "source": [
    "g = 9.8\n",
    "v_t = 4.9\n",
    "C_D = 1/5\n",
    "C_L = 1\n",
    "\n",
    "#v0 = 6\n",
    "#theta0 = 50/180*3.1415927\n",
    "x0 = 0\n",
    "y0 = 2"
   ]
  },
  {
   "cell_type": "code",
   "execution_count": 3,
   "metadata": {
    "collapsed": true
   },
   "outputs": [],
   "source": [
    "def f(u):\n",
    "    v = u[0]\n",
    "    theta = u[1]\n",
    "    x = u[2]\n",
    "    y = u[3]\n",
    "    return numpy.array([-g*sin(theta) - C_D/C_L*g/v_t**2*v**2,\n",
    "                      -g*cos(theta)/v + g/v_t**2*v,\n",
    "                      v*cos(theta),\n",
    "                      v*sin(theta)])"
   ]
  },
  {
   "cell_type": "code",
   "execution_count": 4,
   "metadata": {
    "collapsed": false
   },
   "outputs": [],
   "source": [
    "def euler_step(u, f, dt):\n",
    "    return u + dt * f(u)"
   ]
  },
  {
   "cell_type": "code",
   "execution_count": 6,
   "metadata": {
    "collapsed": false
   },
   "outputs": [
    {
     "name": "stdout",
     "output_type": "stream",
     "text": [
      "8.5 78.5676722811 38.00000000000001\n"
     ]
    }
   ],
   "source": [
    "T = 10\n",
    "dt = 0.0005\n",
    "N = int(T/dt) + 1\n",
    "t = numpy.linspace(0, T, N)\n",
    "xmax = 0\n",
    "thetamax = 0\n",
    "vi = 0\n",
    "\n",
    "\n",
    "for v0 in numpy.linspace(7,9,5):\n",
    "    \n",
    "    for theta0 in range (-20,40,):\n",
    "        u = numpy.empty((N, 4))\n",
    "        theta0 = theta0/180*numpy.pi\n",
    "        u[0] = numpy.array([v0, theta0, x0, y0])\n",
    "        for n in range(N-1):\n",
    "            u[n+1] = euler_step(u[n], f, dt)\n",
    "            if u[n+1, 3] < 0:\n",
    "                if xmax<u[n,2]:\n",
    "                    xmax = u[n,2]\n",
    "                    thetamax = theta0\n",
    "                    vi = v0\n",
    "                #print (u[n,2],u[n,3],u[n+1,3])\n",
    "                break\n",
    "\n",
    "               \n",
    "        \n",
    "            \n",
    "print (vi,xmax,thetamax/numpy.pi*180)"
   ]
  },
  {
   "cell_type": "code",
   "execution_count": 21,
   "metadata": {
    "collapsed": false
   },
   "outputs": [
    {
     "name": "stdout",
     "output_type": "stream",
     "text": [
      "0.830485040423 -90.0\n",
      "0.867784561977 -89.0\n",
      "0.905102891044 -88.0\n",
      "0.947814601946 -87.0\n",
      "0.985187974648 -86.0\n",
      "1.0280687367 -85.0\n",
      "1.07103816444 -84.0\n",
      "1.11407003883 -83.0\n",
      "1.16291824219 -82.0\n",
      "1.20606452448 -81.0\n",
      "1.25511500159 -80.0\n",
      "1.30425300226 -79.0\n",
      "1.35951333563 -78.00000000000001\n",
      "1.40878014457 -77.0\n",
      "1.46422367866 -76.00000000000001\n",
      "1.5259968804 -75.0\n",
      "1.58156351177 -74.0\n",
      "1.64347727854 -73.0\n",
      "1.71185543694 -72.0\n",
      "1.78028816261 -71.0\n",
      "1.85525961879 -70.0\n",
      "1.93022083679 -69.0\n",
      "2.01173165409 -68.0\n",
      "2.09981093289 -67.0\n",
      "2.20117862105 -66.0\n",
      "2.30234185953 -65.0\n",
      "2.42347380512 -64.0\n",
      "2.55090262465 -62.99999999999999\n",
      "2.70476074761 -62.0\n",
      "2.88457249732 -60.99999999999999\n",
      "3.1231202899 -60.0\n",
      "3.54323085775 -58.99999999999999\n",
      "9.642153716 -58.00000000000001\n",
      "9.68821791087 -57.0\n",
      "9.73425545688 -56.0\n",
      "9.77610182441 -55.00000000000001\n",
      "9.82203088295 -54.0\n",
      "9.86791388381 -53.0\n",
      "9.90947285245 -51.99999999999999\n",
      "9.95520035775 -51.0\n",
      "10.0008539088 -50.0\n",
      "10.0420440705 -48.99999999999999\n",
      "10.087478711 -48.0\n",
      "10.1283551464 -47.0\n",
      "10.1735199502 -46.0\n",
      "10.2185458576 -45.0\n",
      "10.2634169401 -44.0\n",
      "10.3035338023 -43.0\n",
      "10.3480115515 -42.0\n",
      "10.3922822567 -41.0\n",
      "10.4363266169 -40.0\n",
      "10.4801245472 -39.00000000000001\n",
      "10.5283904584 -38.00000000000001\n",
      "10.5716598948 -37.0\n",
      "10.6194079753 -36.0\n",
      "10.6620555517 -35.0\n",
      "10.7091849279 -34.0\n",
      "10.7559774572 -33.0\n",
      "10.8024046216 -32.0\n",
      "10.8533478818 -31.0\n",
      "10.9039075027 -30.0\n",
      "10.9540487345 -29.000000000000004\n",
      "11.0037363625 -28.0\n",
      "11.0579189761 -27.0\n",
      "11.1116050008 -25.999999999999996\n",
      "11.1647529714 -25.0\n",
      "11.2223440109 -24.0\n",
      "11.279331881 -23.0\n",
      "11.3407086077 -22.0\n",
      "11.4064429045 -21.0\n",
      "11.4714432448 -20.0\n",
      "11.5356509447 -19.000000000000004\n",
      "11.6091025975 -18.0\n",
      "11.6816321753 -17.0\n",
      "11.7632434582 -16.0\n",
      "11.8437616399 -15.0\n",
      "11.9281235106 -14.0\n",
      "12.0212091082 -12.999999999999998\n",
      "12.1178549361 -12.0\n",
      "12.2179146141 -11.0\n",
      "12.3212347945 -10.0\n",
      "12.4325615806 -9.0\n",
      "12.5418979596 -8.0\n",
      "12.658859435 -7.0\n",
      "12.7735770379 -6.0\n",
      "12.8907811319 -5.0\n",
      "13.0008639287 -4.0\n",
      "13.1086222419 -3.0\n",
      "13.2093864468 -2.0\n",
      "13.3032669635 -1.0\n",
      "13.385761504 0.0\n",
      "13.4662406973 1.0\n",
      "13.535606359 2.0\n",
      "13.5940318959 3.0\n",
      "13.646196097 4.0\n",
      "13.6876789789 5.0\n",
      "13.7275833259 6.0\n",
      "13.7525154451 7.0\n",
      "13.7759973774 8.0\n",
      "13.7935977084 9.0\n",
      "13.8009356956 10.0\n",
      "13.8069301323 11.0\n",
      "13.807178524 12.0\n",
      "12.999999999999998\n",
      "14.0\n",
      "15.0\n",
      "16.0\n",
      "17.0\n",
      "18.0\n",
      "19.000000000000004\n",
      "20.0\n",
      "21.0\n",
      "22.0\n",
      "23.0\n",
      "24.0\n",
      "25.0\n",
      "25.999999999999996\n",
      "27.0\n",
      "28.0\n",
      "29.000000000000004\n",
      "30.0\n",
      "31.0\n",
      "32.0\n",
      "33.0\n",
      "34.0\n",
      "35.0\n",
      "36.0\n",
      "37.0\n",
      "38.00000000000001\n",
      "39.00000000000001\n",
      "40.0\n",
      "41.0\n",
      "42.0\n",
      "43.0\n",
      "44.0\n",
      "45.0\n",
      "46.0\n",
      "47.0\n",
      "48.0\n",
      "48.99999999999999\n",
      "50.0\n",
      "51.0\n",
      "51.99999999999999\n",
      "53.0\n",
      "54.0\n",
      "55.00000000000001\n",
      "56.0\n",
      "57.0\n",
      "58.00000000000001\n",
      "58.99999999999999\n",
      "60.0\n",
      "60.99999999999999\n",
      "62.0\n",
      "62.99999999999999\n",
      "64.0\n",
      "65.0\n",
      "66.0\n",
      "67.0\n",
      "68.0\n",
      "69.0\n",
      "70.0\n",
      "71.0\n",
      "72.0\n",
      "73.0\n",
      "74.0\n",
      "75.0\n",
      "76.00000000000001\n",
      "77.0\n",
      "78.00000000000001\n",
      "79.0\n",
      "80.0\n",
      "81.0\n",
      "82.0\n",
      "83.0\n",
      "84.0\n",
      "85.0\n",
      "86.0\n",
      "87.0\n",
      "88.0\n",
      "89.0\n",
      "90.0\n"
     ]
    }
   ],
   "source": [
    "T = 20\n",
    "dt = 0.001\n",
    "N = int(T/dt) + 1\n",
    "t = numpy.linspace(0, T, N)\n",
    "xmax = 0\n",
    "thetamax = 0\n",
    "u = numpy.empty((N, 4))\n",
    "\n",
    " \n",
    "for theta0 in range (-90,91,):\n",
    "\n",
    "    theta0 = theta0/180*numpy.pi\n",
    "    u[0] = numpy.array([v0, theta0, x0, y0])\n",
    "    for n in range(N-1):\n",
    "        u[n+1] = euler_step(u[n], f, dt)\n",
    "\n",
    "    x = u[:,2]\n",
    "    y = u[:,3]\n",
    "\n",
    "    yground = numpy.where(y<0)[0]\n",
    "    if len(yground)==0:\n",
    "        print ('not ground')\n",
    "    else:\n",
    "        ground = yground[0]\n",
    "    if x[ground]>xmax:\n",
    "        xmax = x[ground]\n",
    "        thetamax = theta0\n",
    "        print(xmax, thetamax/numpy.pi*180)\n",
    "    else:\n",
    "        print(theta0/numpy.pi*180)\n",
    "\n",
    "    "
   ]
  },
  {
   "cell_type": "code",
   "execution_count": 18,
   "metadata": {
    "collapsed": false
   },
   "outputs": [
    {
     "data": {
      "text/plain": [
       "3.141592653589793"
      ]
     },
     "execution_count": 18,
     "metadata": {},
     "output_type": "execute_result"
    }
   ],
   "source": [
    "numpy.pi"
   ]
  },
  {
   "cell_type": "code",
   "execution_count": 16,
   "metadata": {
    "collapsed": false
   },
   "outputs": [
    {
     "name": "stdout",
     "output_type": "stream",
     "text": [
      "0\n",
      "1\n",
      "2\n",
      "3\n",
      "4\n",
      "5\n",
      "6\n"
     ]
    }
   ],
   "source": [
    "for p in range(10):\n",
    "    if p > 6:\n",
    "        break\n",
    "    print(p)"
   ]
  },
  {
   "cell_type": "code",
   "execution_count": 27,
   "metadata": {
    "collapsed": false
   },
   "outputs": [
    {
     "name": "stdout",
     "output_type": "stream",
     "text": [
      "-1.0\n",
      "-0.9\n",
      "-0.8\n",
      "-0.7\n",
      "-0.6\n",
      "-0.5\n",
      "-0.4\n",
      "-0.3\n",
      "-0.2\n",
      "-0.1\n",
      "0.0\n",
      "0.1\n",
      "0.2\n",
      "0.3\n",
      "0.4\n",
      "0.5\n",
      "0.6\n",
      "0.7\n",
      "0.8\n",
      "0.9\n",
      "1.0\n"
     ]
    }
   ],
   "source": [
    "for p in numpy.linspace(-1,1,21):\n",
    "    print(p)"
   ]
  },
  {
   "cell_type": "code",
   "execution_count": 14,
   "metadata": {
    "collapsed": false
   },
   "outputs": [
    {
     "ename": "NameError",
     "evalue": "name 'v' is not defined",
     "output_type": "error",
     "traceback": [
      "\u001b[1;31m---------------------------------------------------------------------------\u001b[0m",
      "\u001b[1;31mNameError\u001b[0m                                 Traceback (most recent call last)",
      "\u001b[1;32m<ipython-input-14-7b0f950260b8>\u001b[0m in \u001b[0;36m<module>\u001b[1;34m()\u001b[0m\n\u001b[0;32m      1\u001b[0m \u001b[0mtheta\u001b[0m \u001b[1;33m=\u001b[0m \u001b[1;36m50\u001b[0m\u001b[1;33m/\u001b[0m\u001b[1;36m180\u001b[0m\u001b[1;33m*\u001b[0m\u001b[1;36m3.1415927\u001b[0m\u001b[1;33m\u001b[0m\u001b[0m\n\u001b[1;32m----> 2\u001b[1;33m \u001b[1;33m-\u001b[0m\u001b[0mg\u001b[0m\u001b[1;33m*\u001b[0m\u001b[0msin\u001b[0m\u001b[1;33m(\u001b[0m\u001b[0mtheta\u001b[0m\u001b[1;33m)\u001b[0m \u001b[1;33m-\u001b[0m \u001b[0mC_D\u001b[0m\u001b[1;33m/\u001b[0m\u001b[0mC_L\u001b[0m\u001b[1;33m*\u001b[0m\u001b[0mg\u001b[0m\u001b[1;33m/\u001b[0m\u001b[0mv_t\u001b[0m\u001b[1;33m**\u001b[0m\u001b[1;36m2\u001b[0m\u001b[1;33m*\u001b[0m\u001b[0mv\u001b[0m\u001b[1;33m**\u001b[0m\u001b[1;36m2\u001b[0m\u001b[1;33m\u001b[0m\u001b[0m\n\u001b[0m",
      "\u001b[1;31mNameError\u001b[0m: name 'v' is not defined"
     ]
    }
   ],
   "source": [
    "theta = 50/180*3.1415927\n",
    "-g*sin(theta) - C_D/C_L*g/v_t**2*v**2"
   ]
  },
  {
   "cell_type": "code",
   "execution_count": 6,
   "metadata": {
    "collapsed": false
   },
   "outputs": [
    {
     "name": "stdout",
     "output_type": "stream",
     "text": [
      "1.0471975666666666\n"
     ]
    }
   ],
   "source": [
    "print(theta0)"
   ]
  },
  {
   "cell_type": "code",
   "execution_count": 6,
   "metadata": {
    "collapsed": true
   },
   "outputs": [],
   "source": [
    "x = u[:,2]\n",
    "y = u[:,3]"
   ]
  },
  {
   "cell_type": "code",
   "execution_count": 7,
   "metadata": {
    "collapsed": false
   },
   "outputs": [],
   "source": [
    "yy = numpy.where(y<0)[0]\n",
    "if len(yy)==0:\n",
    "    print ('not ground')\n",
    "else:\n",
    "    ground = yy[0]\n",
    "    "
   ]
  },
  {
   "cell_type": "code",
   "execution_count": 7,
   "metadata": {
    "collapsed": false
   },
   "outputs": [
    {
     "name": "stdout",
     "output_type": "stream",
     "text": [
      "4.96632202333\n"
     ]
    },
    {
     "data": {
      "image/png": "[encoded data removed]",
      "text/plain": [
       "<matplotlib.figure.Figure at 0x7f43e8fb36d8>"
      ]
     },
     "metadata": {},
     "output_type": "display_data"
    }
   ],
   "source": [
    "pyplot.figure(figsize=(8,6))\n",
    "pyplot.grid(True)\n",
    "pyplot.xlabel(r'x', fontsize=18)\n",
    "pyplot.ylabel(r'y', fontsize=18)\n",
    "pyplot.title('Glider trajectory, flight time = %.2f' % T, fontsize=18)\n",
    "pyplot.plot(x[:ground],y[:ground], 'k-', lw=2);\n",
    "print (x[ground])"
   ]
  },
  {
   "cell_type": "code",
   "execution_count": null,
   "metadata": {
    "collapsed": true
   },
   "outputs": [],
   "source": []
  },
  {
   "cell_type": "code",
   "execution_count": 11,
   "metadata": {
    "collapsed": false
   },
   "outputs": [],
   "source": [
    "dt_values = numpy.array([0.1, 0.05, 0.01, 0.005, 0.001])\n",
    "\n",
    "u_values = numpy.empty_like(dt_values, dtype=numpy.ndarray)\n",
    "\n",
    "for i, dt in enumerate(dt_values):\n",
    "    \n",
    "    N = int(T/dt) + 1\n",
    "    t = numpy.linspace(0, T, N)\n",
    "    \n",
    "    u = numpy.empty((N, 4))\n",
    "    u[0] = numpy.array([v0, theta0, x0, y0])\n",
    "    \n",
    "    for n in range(N-1):\n",
    "       \n",
    "        u[n+1] = euler_step(u[n], f, dt)\n",
    "        \n",
    "    u_values[i] = u"
   ]
  },
  {
   "cell_type": "code",
   "execution_count": 12,
   "metadata": {
    "collapsed": true
   },
   "outputs": [],
   "source": [
    "def get_diffgrid(u_current, u_fine, dt):\n",
    "    \n",
    "    N_current = len(u_current[:,0])\n",
    "    N_fine = len(u_fine[:,0])\n",
    "   \n",
    "    grid_size_ratio = ceil(N_fine/N_current)\n",
    "    \n",
    "    diffgrid = dt * numpy.sum( numpy.abs(\\\n",
    "            u_current[:,2]- u_fine[::grid_size_ratio,2])) \n",
    "    \n",
    "    return diffgrid"
   ]
  },
  {
   "cell_type": "code",
   "execution_count": 13,
   "metadata": {
    "collapsed": false
   },
   "outputs": [
    {
     "name": "stdout",
     "output_type": "stream",
     "text": [
      "dt = 0.1\n",
      "dt = 0.05\n",
      "dt = 0.01\n",
      "dt = 0.005\n",
      "dt = 0.001\n"
     ]
    }
   ],
   "source": [
    "diffgrid = numpy.empty_like(dt_values)\n",
    "\n",
    "for i, dt in enumerate(dt_values):\n",
    "    print('dt = {}'.format(dt))\n",
    "    \n",
    "    diffgrid[i] = get_diffgrid(u_values[i], u_values[-1], dt)"
   ]
  },
  {
   "cell_type": "code",
   "execution_count": 14,
   "metadata": {
    "collapsed": false
   },
   "outputs": [
    {
     "data": {
      "image/png": "[encoded data removed]",
      "text/plain": [
       "<matplotlib.figure.Figure at 0x7fcf95c35320>"
      ]
     },
     "metadata": {},
     "output_type": "display_data"
    }
   ],
   "source": [
    "pyplot.figure(figsize=(6,6))\n",
    "pyplot.grid(True)\n",
    "pyplot.xlabel('$\\Delta t$', fontsize=18)\n",
    "pyplot.ylabel('$L_1$-norm of the grid differences', fontsize=18)\n",
    "pyplot.axis('equal')\n",
    "pyplot.loglog(dt_values[:-1], diffgrid[:-1], color='k', ls='-', lw=2, marker='o');"
   ]
  },
  {
   "cell_type": "code",
   "execution_count": 42,
   "metadata": {
    "collapsed": false
   },
   "outputs": [
    {
     "ename": "SyntaxError",
     "evalue": "invalid syntax (<ipython-input-42-fa54ebfb7156>, line 1)",
     "output_type": "error",
     "traceback": [
      "\u001b[1;36m  File \u001b[1;32m\"<ipython-input-42-fa54ebfb7156>\"\u001b[1;36m, line \u001b[1;32m1\u001b[0m\n\u001b[1;33m    range(0, 1[, 0.1])\u001b[0m\n\u001b[1;37m               ^\u001b[0m\n\u001b[1;31mSyntaxError\u001b[0m\u001b[1;31m:\u001b[0m invalid syntax\n"
     ]
    }
   ],
   "source": [
    "range(0, 1[, 0.1])"
   ]
  },
  {
   "cell_type": "code",
   "execution_count": 12,
   "metadata": {
    "collapsed": true
   },
   "outputs": [],
   "source": [
    "?range"
   ]
  },
  {
   "cell_type": "code",
   "execution_count": 21,
   "metadata": {
    "collapsed": false
   },
   "outputs": [
    {
     "ename": "TypeError",
     "evalue": "'float' object cannot be interpreted as an integer",
     "output_type": "error",
     "traceback": [
      "\u001b[1;31m---------------------------------------------------------------------------\u001b[0m",
      "\u001b[1;31mTypeError\u001b[0m                                 Traceback (most recent call last)",
      "\u001b[1;32m<ipython-input-21-27d5c77c1456>\u001b[0m in \u001b[0;36m<module>\u001b[1;34m()\u001b[0m\n\u001b[1;32m----> 1\u001b[1;33m \u001b[1;32mfor\u001b[0m \u001b[0mth\u001b[0m \u001b[1;32min\u001b[0m \u001b[0mrange\u001b[0m \u001b[1;33m(\u001b[0m\u001b[1;36m3\u001b[0m\u001b[1;33m,\u001b[0m\u001b[1;36m6\u001b[0m\u001b[1;33m,\u001b[0m \u001b[1;36m0.2\u001b[0m\u001b[1;33m)\u001b[0m\u001b[1;33m:\u001b[0m\u001b[1;33m\u001b[0m\u001b[0m\n\u001b[0m\u001b[0;32m      2\u001b[0m     \u001b[0mprint\u001b[0m \u001b[1;33m(\u001b[0m\u001b[0mth\u001b[0m\u001b[1;33m)\u001b[0m\u001b[1;33m\u001b[0m\u001b[0m\n",
      "\u001b[1;31mTypeError\u001b[0m: 'float' object cannot be interpreted as an integer"
     ]
    }
   ],
   "source": [
    "for th in range (3,6, 0.2):\n",
    "    print (th)"
   ]
  },
  {
   "cell_type": "code",
   "execution_count": 18,
   "metadata": {
    "collapsed": false
   },
   "outputs": [
    {
     "ename": "TypeError",
     "evalue": "'float' object cannot be interpreted as an integer",
     "output_type": "error",
     "traceback": [
      "\u001b[1;31m---------------------------------------------------------------------------\u001b[0m",
      "\u001b[1;31mTypeError\u001b[0m                                 Traceback (most recent call last)",
      "\u001b[1;32m<ipython-input-18-1afe5de67d0f>\u001b[0m in \u001b[0;36m<module>\u001b[1;34m()\u001b[0m\n\u001b[1;32m----> 1\u001b[1;33m \u001b[0mrange\u001b[0m\u001b[1;33m(\u001b[0m\u001b[1;36m0\u001b[0m\u001b[1;33m,\u001b[0m \u001b[1;36m4\u001b[0m\u001b[1;33m,\u001b[0m \u001b[1;36m0.1\u001b[0m\u001b[1;33m)\u001b[0m\u001b[1;33m\u001b[0m\u001b[0m\n\u001b[0m",
      "\u001b[1;31mTypeError\u001b[0m: 'float' object cannot be interpreted as an integer"
     ]
    }
   ],
   "source": [
    "range(0, 4, 0.1)"
   ]
  },
  {
   "cell_type": "code",
   "execution_count": 48,
   "metadata": {
    "collapsed": true
   },
   "outputs": [],
   "source": [
    "u = [[2,3],[4,5]]"
   ]
  },
  {
   "cell_type": "code",
   "execution_count": 49,
   "metadata": {
    "collapsed": false
   },
   "outputs": [
    {
     "data": {
      "text/plain": [
       "[[2, 3], [4, 5]]"
      ]
     },
     "execution_count": 49,
     "metadata": {},
     "output_type": "execute_result"
    }
   ],
   "source": [
    "u"
   ]
  },
  {
   "cell_type": "code",
   "execution_count": 50,
   "metadata": {
    "collapsed": false
   },
   "outputs": [
    {
     "ename": "TypeError",
     "evalue": "list indices must be integers, not tuple",
     "output_type": "error",
     "traceback": [
      "\u001b[1;31m---------------------------------------------------------------------------\u001b[0m",
      "\u001b[1;31mTypeError\u001b[0m                                 Traceback (most recent call last)",
      "\u001b[1;32m<ipython-input-50-a239e64a6623>\u001b[0m in \u001b[0;36m<module>\u001b[1;34m()\u001b[0m\n\u001b[1;32m----> 1\u001b[1;33m \u001b[0mu\u001b[0m\u001b[1;33m[\u001b[0m\u001b[1;36m1\u001b[0m\u001b[1;33m,\u001b[0m\u001b[1;36m1\u001b[0m\u001b[1;33m]\u001b[0m\u001b[1;33m\u001b[0m\u001b[0m\n\u001b[0m",
      "\u001b[1;31mTypeError\u001b[0m: list indices must be integers, not tuple"
     ]
    }
   ],
   "source": [
    "u[1,1]"
   ]
  },
  {
   "cell_type": "code",
   "execution_count": null,
   "metadata": {
    "collapsed": true
   },
   "outputs": [],
   "source": []
  }
 ],
 "metadata": {
  "kernelspec": {
   "display_name": "Python 3",
   "language": "python",
   "name": "python3"
  },
  "language_info": {
   "codemirror_mode": {
    "name": "ipython",
    "version": 3
   },
   "file_extension": ".py",
   "mimetype": "text/x-python",
   "name": "python",
   "nbconvert_exporter": "python",
   "pygments_lexer": "ipython3",
   "version": "3.4.3"
  }
 },
 "nbformat": 4,
 "nbformat_minor": 0
}
