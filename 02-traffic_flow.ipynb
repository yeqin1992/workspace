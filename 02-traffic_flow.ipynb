{
 "cells": [
  {
   "cell_type": "code",
   "execution_count": 1,
   "metadata": {
    "collapsed": true
   },
   "outputs": [],
   "source": [
    "import numpy\n",
    "import sympy\n",
    "from matplotlib import pyplot\n",
    "%matplotlib inline\n",
    "from matplotlib import rcParams\n",
    "rcParams['font.family'] = 'serif'\n",
    "rcParams['font.size'] = 16"
   ]
  },
  {
   "cell_type": "code",
   "execution_count": 2,
   "metadata": {
    "collapsed": false
   },
   "outputs": [],
   "source": [
    "Vmax = 136\n",
    "nt = 50\n",
    "L = 11\n",
    "rhomax = 250\n",
    "nx = 51\n",
    "dt = 0.001\n",
    "dx = L/(nx-1)\n",
    "rho00 = 10\n",
    "\n",
    "x = numpy.linspace(0,L,nx)\n",
    "u = numpy.ones(nx)"
   ]
  },
  {
   "cell_type": "code",
   "execution_count": 3,
   "metadata": {
    "collapsed": false
   },
   "outputs": [],
   "source": [
    "x = numpy.linspace(0,L,nx)\n",
    "rho0 = numpy.ones(nx)*20\n",
    "rho0[10:20] = 50\n",
    "F0=Vmax*rho0*(1-rho0/rhomax)"
   ]
  },
  {
   "cell_type": "code",
   "execution_count": 4,
   "metadata": {
    "collapsed": false
   },
   "outputs": [
    {
     "name": "stdout",
     "output_type": "stream",
     "text": [
      "[ 20.  20.  20.  20.  20.  20.  20.  20.  20.  20.  50.  50.  50.  50.  50.\n",
      "  50.  50.  50.  50.  50.  20.  20.  20.  20.  20.  20.  20.  20.  20.  20.\n",
      "  20.  20.  20.  20.  20.  20.  20.  20.  20.  20.  20.  20.  20.  20.  20.\n",
      "  20.  20.  20.  20.  20.  20.]\n"
     ]
    }
   ],
   "source": [
    "print (rho0)"
   ]
  },
  {
   "cell_type": "code",
   "execution_count": 5,
   "metadata": {
    "collapsed": false
   },
   "outputs": [],
   "source": [
    "for n in range(1,nt):\n",
    "    rhon = rho0.copy()\n",
    "    for i in range(1,nx):\n",
    "        F0[i] = Vmax*rho0[i]*(1-rho0[i]/rhomax)\n",
    "        rho0[i] = rhon[i]-dt/dx*(F0[i]-F0[i-1])"
   ]
  },
  {
   "cell_type": "code",
   "execution_count": 6,
   "metadata": {
    "collapsed": false,
    "scrolled": true
   },
   "outputs": [
    {
     "data": {
      "text/plain": [
       "[<matplotlib.lines.Line2D at 0x7f4e262077f0>]"
      ]
     },
     "execution_count": 6,
     "metadata": {},
     "output_type": "execute_result"
    },
    {
     "data": {
      "image/png": "[encoded data removed]",
      "text/plain": [
       "<matplotlib.figure.Figure at 0x7f4e3d39d6d8>"
      ]
     },
     "metadata": {},
     "output_type": "display_data"
    }
   ],
   "source": [
    "pyplot.plot(x,rho0, color='#003366', ls='--', lw = 3)\n"
   ]
  },
  {
   "cell_type": "code",
   "execution_count": 7,
   "metadata": {
    "collapsed": true
   },
   "outputs": [],
   "source": [
    "v = Vmax*(1-rho0/rhomax)"
   ]
  },
  {
   "cell_type": "code",
   "execution_count": 8,
   "metadata": {
    "collapsed": false,
    "scrolled": true
   },
   "outputs": [
    {
     "name": "stdout",
     "output_type": "stream",
     "text": [
      "[ 125.12        125.12        125.12        125.12        125.12        125.12\n",
      "  125.12        125.12        125.12        125.12        125.12        125.12\n",
      "  125.12        125.12        125.12        125.11999998  125.11999984\n",
      "  125.11999885  125.11999309  125.11996369  125.11983145  125.11930093\n",
      "  125.11738643  125.11112333  125.09242309  125.04117338  124.91176408\n",
      "  124.61071126  123.97036774  122.75045339  120.74653039  118.05242057\n",
      "  115.23475937  113.02031878  111.77153636  111.40633309  111.66897502\n",
      "  112.33149201  113.24091094  114.30168508  115.45158349  116.64569188\n",
      "  117.84770678  119.02558241  120.14958664  121.19186624  122.12721113\n",
      "  122.93488062  123.6011813   124.12206695  124.50462324]\n"
     ]
    }
   ],
   "source": [
    "print(v)"
   ]
  },
  {
   "cell_type": "code",
   "execution_count": 9,
   "metadata": {
    "collapsed": false
   },
   "outputs": [],
   "source": [
    "nn = 0\n",
    "xx = 0\n",
    "while nn<51:\n",
    "    xx = v[nn]+xx\n",
    "    nn=nn+1"
   ]
  },
  {
   "cell_type": "code",
   "execution_count": 10,
   "metadata": {
    "collapsed": false
   },
   "outputs": [
    {
     "data": {
      "text/plain": [
       "33.870487106785021"
      ]
     },
     "execution_count": 10,
     "metadata": {},
     "output_type": "execute_result"
    }
   ],
   "source": [
    "xx/51/3.6"
   ]
  },
  {
   "cell_type": "code",
   "execution_count": 11,
   "metadata": {
    "collapsed": false
   },
   "outputs": [],
   "source": [
    "nn = 0\n",
    "xx = 1110\n",
    "while nn < 51:\n",
    "    if xx>v[nn]:\n",
    "        xx = v[nn]\n",
    "    nn = nn +1"
   ]
  },
  {
   "cell_type": "code",
   "execution_count": 12,
   "metadata": {
    "collapsed": false
   },
   "outputs": [
    {
     "data": {
      "text/plain": [
       "30.946203636862368"
      ]
     },
     "execution_count": 12,
     "metadata": {},
     "output_type": "execute_result"
    }
   ],
   "source": [
    "xx/3.6"
   ]
  },
  {
   "cell_type": "code",
   "execution_count": 23,
   "metadata": {
    "collapsed": true
   },
   "outputs": [],
   "source": [
    "Vmax = 136\n",
    "x = numpy.linspace(0,L,nx)\n",
    "rho0 = numpy.ones(nx)*20\n",
    "rho0[10:20] = 50"
   ]
  },
  {
   "cell_type": "code",
   "execution_count": 24,
   "metadata": {
    "collapsed": false
   },
   "outputs": [],
   "source": [
    "for n in range(1,51):\n",
    "    rhon = rho0.copy()\n",
    "    for i in range(1,nx):\n",
    "        F0[i] = Vmax*rho0[i]*(1-rho0[i]/rhomax)\n",
    "        rho0[i] = rhon[i]-dt/dx*(F0[i]-F0[i-1])"
   ]
  },
  {
   "cell_type": "code",
   "execution_count": 25,
   "metadata": {
    "collapsed": false
   },
   "outputs": [
    {
     "data": {
      "text/plain": [
       "[<matplotlib.lines.Line2D at 0x7ff4fd215588>]"
      ]
     },
     "execution_count": 25,
     "metadata": {},
     "output_type": "execute_result"
    },
    {
     "data": {
      "image/png": "[encoded data removed]",
      "text/plain": [
       "<matplotlib.figure.Figure at 0x7ff501e905c0>"
      ]
     },
     "metadata": {},
     "output_type": "display_data"
    }
   ],
   "source": [
    "pyplot.plot(x,rho0, color='#003366', ls='--', lw = 3)\n"
   ]
  },
  {
   "cell_type": "code",
   "execution_count": 26,
   "metadata": {
    "collapsed": true
   },
   "outputs": [],
   "source": [
    "v = Vmax*(1-rho0/rhomax)"
   ]
  },
  {
   "cell_type": "code",
   "execution_count": 27,
   "metadata": {
    "collapsed": false
   },
   "outputs": [
    {
     "name": "stdout",
     "output_type": "stream",
     "text": [
      "[ 125.12        130.56        130.56        130.56        130.56        130.56\n",
      "  130.56        130.56        130.56        130.55999998  130.55999988\n",
      "  130.55999931  130.55999658  130.55998477  130.55993877  130.55977666\n",
      "  130.55925704  130.55773622  130.5536581   130.5436093   130.52080003\n",
      "  130.47301459  130.38048902  130.21475974  129.93985608  129.51619672\n",
      "  128.90375992  128.05519315  126.88936095  125.25879105  122.98165509\n",
      "  120.03794651  116.83143436  114.08647516  112.31990444  111.56326285\n",
      "  111.56800951  112.06715171  112.87078216  113.860321    114.96155776\n",
      "  116.12409924  117.30956812  118.48550884  119.62245334  120.69279693\n",
      "  121.67093681  122.53448915  123.26640742  123.85754406  124.30877756]\n"
     ]
    }
   ],
   "source": [
    "print(v)"
   ]
  },
  {
   "cell_type": "code",
   "execution_count": 28,
   "metadata": {
    "collapsed": true
   },
   "outputs": [],
   "source": [
    "nn = 0\n",
    "xx = 0\n",
    "while nn<51:\n",
    "    xx = v[nn]+xx\n",
    "    nn=nn+1"
   ]
  },
  {
   "cell_type": "code",
   "execution_count": 29,
   "metadata": {
    "collapsed": false
   },
   "outputs": [
    {
     "data": {
      "text/plain": [
       "34.678144116903013"
      ]
     },
     "execution_count": 29,
     "metadata": {},
     "output_type": "execute_result"
    }
   ],
   "source": [
    "xx/51/3.6"
   ]
  },
  {
   "cell_type": "code",
   "execution_count": 16,
   "metadata": {
    "collapsed": false
   },
   "outputs": [
    {
     "name": "stdout",
     "output_type": "stream",
     "text": [
      "[ 20.  20.  20.  20.  20.  20.  20.  20.  20.  20.  50.  50.  50.  50.  50.\n",
      "  50.  50.  50.  50.  50.  20.  20.  20.  20.  20.  20.  20.  20.  20.  20.\n",
      "  20.  20.  20.  20.  20.  20.  20.  20.  20.  20.  20.  20.  20.  20.  20.\n",
      "  20.  20.  20.  20.  20.  20.]\n"
     ]
    }
   ],
   "source": [
    "print (rho0)"
   ]
  },
  {
   "cell_type": "code",
   "execution_count": null,
   "metadata": {
    "collapsed": true
   },
   "outputs": [],
   "source": []
  }
 ],
 "metadata": {
  "kernelspec": {
   "display_name": "Python 3",
   "language": "python",
   "name": "python3"
  },
  "language_info": {
   "codemirror_mode": {
    "name": "ipython",
    "version": 3
   },
   "file_extension": ".py",
   "mimetype": "text/x-python",
   "name": "python",
   "nbconvert_exporter": "python",
   "pygments_lexer": "ipython3",
   "version": "3.4.3"
  }
 },
 "nbformat": 4,
 "nbformat_minor": 0
}
