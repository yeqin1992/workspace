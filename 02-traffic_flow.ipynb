{
 "cells": [
  {
   "cell_type": "code",
   "execution_count": 1,
   "metadata": {
    "collapsed": true
   },
   "outputs": [],
   "source": [
    "import numpy\n",
    "import sympy\n",
    "from matplotlib import pyplot\n",
    "%matplotlib inline\n",
    "from matplotlib import rcParams\n",
    "rcParams['font.family'] = 'serif'\n",
    "rcParams['font.size'] = 16"
   ]
  },
  {
   "cell_type": "code",
   "execution_count": 2,
   "metadata": {
    "collapsed": false
   },
   "outputs": [],
   "source": [
    "Vmax = 80\n",
    "nt = 50\n",
    "L = 11\n",
    "rhomax = 250\n",
    "nx = 51\n",
    "dt = 0.001\n",
    "dx = L/(nx-1)\n",
    "rho00 = 10\n",
    "\n",
    "x = numpy.linspace(0,L,nx)\n",
    "u = numpy.ones(nx)"
   ]
  },
  {
   "cell_type": "code",
   "execution_count": 3,
   "metadata": {
    "collapsed": false
   },
   "outputs": [],
   "source": [
    "x = numpy.linspace(0,L,nx)\n",
    "rho0 = numpy.ones(nx)*10\n",
    "rho0[10:20] = 50\n",
    "F0=Vmax*rho0*(1-rho0/rhomax)"
   ]
  },
  {
   "cell_type": "code",
   "execution_count": 4,
   "metadata": {
    "collapsed": false
   },
   "outputs": [
    {
     "name": "stdout",
     "output_type": "stream",
     "text": [
      "The minimum velocity at time t = 0 is 17.78 m/s.\n"
     ]
    }
   ],
   "source": [
    "V = Vmax*(1-rho0/rhomax)\n",
    "minV = V[0]\n",
    "for i in range (1,nx):\n",
    "    if V[i]<minV:\n",
    "        minV = V[i]\n",
    "minV = minV/3.6\n",
    "print ('The minimum velocity at time t = 0 is {:.2f} m/s.'.format(minV))"
   ]
  },
  {
   "cell_type": "code",
   "execution_count": 5,
   "metadata": {
    "collapsed": false
   },
   "outputs": [],
   "source": [
    "def findv(nt):\n",
    "    rho = rho0.copy()\n",
    "    for n in range(1,nt):\n",
    "        rhon = rho.copy()\n",
    "        for i in range(1,nx):\n",
    "            F0[i] = Vmax*rho[i]*(1-rho[i]/rhomax)\n",
    "            rho[i] = rhon[i]-dt/dx*(F0[i]-F0[i-1])\n",
    "        \n",
    "    pyplot.plot(x,rho, color='#003366', ls='--', lw = 3)\n",
    "    v = Vmax*(1-rho/rhomax)\n",
    "    \n",
    "    return v"
   ]
  },
  {
   "cell_type": "code",
   "execution_count": 6,
   "metadata": {
    "collapsed": false
   },
   "outputs": [
    {
     "data": {
      "image/png": "[encoded data removed]",
      "text/plain": [
       "<matplotlib.figure.Figure at 0x7fd6fbfd25f8>"
      ]
     },
     "metadata": {},
     "output_type": "display_data"
    }
   ],
   "source": [
    "v = findv(50)"
   ]
  },
  {
   "cell_type": "code",
   "execution_count": 7,
   "metadata": {
    "collapsed": false
   },
   "outputs": [],
   "source": [
    "nn = 0\n",
    "xx = 0\n",
    "while nn<51:\n",
    "    xx = v[nn]+xx\n",
    "    nn=nn+1"
   ]
  },
  {
   "cell_type": "code",
   "execution_count": 8,
   "metadata": {
    "collapsed": false
   },
   "outputs": [
    {
     "name": "stdout",
     "output_type": "stream",
     "text": [
      "The average velocity at time t = 3 minutes is 20.64 m/s.\n"
     ]
    }
   ],
   "source": [
    "print ('The average velocity at time t = 3 minutes is {:.2f} m/s.'.format(xx/nx/3.6))"
   ]
  },
  {
   "cell_type": "code",
   "execution_count": 9,
   "metadata": {
    "collapsed": false
   },
   "outputs": [
    {
     "data": {
      "image/png": "[encoded data removed]",
      "text/plain": [
       "<matplotlib.figure.Figure at 0x7fd6fbffc5c0>"
      ]
     },
     "metadata": {},
     "output_type": "display_data"
    }
   ],
   "source": [
    "v = findv(100)"
   ]
  },
  {
   "cell_type": "code",
   "execution_count": 10,
   "metadata": {
    "collapsed": false
   },
   "outputs": [],
   "source": [
    "n = 1\n",
    "vmin = v[0]\n",
    "while n < 51:\n",
    "    if vmin>v[n]:\n",
    "        vmin = v[n]\n",
    "    n = n +1"
   ]
  },
  {
   "cell_type": "code",
   "execution_count": 11,
   "metadata": {
    "collapsed": false
   },
   "outputs": [
    {
     "name": "stdout",
     "output_type": "stream",
     "text": [
      "The minimum velocity at time t = 6 minutes is 18.78 m/s\n"
     ]
    }
   ],
   "source": [
    " print ('The minimum velocity at time t = 6 minutes is {:.2f} m/s'.format(vmin/3.6))"
   ]
  },
  {
   "cell_type": "code",
   "execution_count": 12,
   "metadata": {
    "collapsed": true
   },
   "outputs": [],
   "source": [
    "Vmax = 136\n",
    "x = numpy.linspace(0,L,nx)\n",
    "rho0 = numpy.ones(nx)*20\n",
    "rho0[10:20] = 50\n",
    "F0=Vmax*rho0*(1-rho0/rhomax)"
   ]
  },
  {
   "cell_type": "code",
   "execution_count": 13,
   "metadata": {
    "collapsed": true
   },
   "outputs": [],
   "source": [
    "V = Vmax*(1-rho0/rhomax)\n",
    "minV = V[0]\n",
    "for i in range (1,nx):\n",
    "    if V[i]<minV:\n",
    "        minV = V[i]\n",
    "minV = minV/3.6"
   ]
  },
  {
   "cell_type": "code",
   "execution_count": 14,
   "metadata": {
    "collapsed": false
   },
   "outputs": [
    {
     "name": "stdout",
     "output_type": "stream",
     "text": [
      "The minimum velocity at time t = 0 is 30.22 m/s.\n"
     ]
    }
   ],
   "source": [
    "print ('The minimum velocity at time t = 0 is {:.2f} m/s.'.format(minV))"
   ]
  },
  {
   "cell_type": "code",
   "execution_count": 15,
   "metadata": {
    "collapsed": false
   },
   "outputs": [
    {
     "data": {
      "image/png": "[encoded data removed]",
      "text/plain": [
       "<matplotlib.figure.Figure at 0x7fd6fbedb048>"
      ]
     },
     "metadata": {},
     "output_type": "display_data"
    }
   ],
   "source": [
    "v = findv(50)"
   ]
  },
  {
   "cell_type": "code",
   "execution_count": 16,
   "metadata": {
    "collapsed": false
   },
   "outputs": [],
   "source": [
    "nn = 0\n",
    "xx = 0\n",
    "while nn<51:\n",
    "    xx = v[nn]+xx\n",
    "    nn=nn+1\n"
   ]
  },
  {
   "cell_type": "code",
   "execution_count": 17,
   "metadata": {
    "collapsed": false
   },
   "outputs": [
    {
     "name": "stdout",
     "output_type": "stream",
     "text": [
      "The average velocity at time t = 3 minutes is 33.87 m/s.\n"
     ]
    }
   ],
   "source": [
    "print ('The average velocity at time t = 3 minutes is {:.2f} m/s.'.format(xx/nx/3.6))"
   ]
  },
  {
   "cell_type": "code",
   "execution_count": 18,
   "metadata": {
    "collapsed": false
   },
   "outputs": [
    {
     "name": "stdout",
     "output_type": "stream",
     "text": [
      "The minimum velocity at time t = 3 minutes is 30.95 m/s\n"
     ]
    }
   ],
   "source": [
    "vmin = v[0]\n",
    "n = 0\n",
    "while n < 51:\n",
    "    if vmin>v[n]:\n",
    "        vmin = v[n]\n",
    "    n = n+1\n",
    "vmin/3.6\n",
    "print ('The minimum velocity at time t = 3 minutes is {:.2f} m/s'.format(vmin/3.6))"
   ]
  },
  {
   "cell_type": "code",
   "execution_count": null,
   "metadata": {
    "collapsed": true
   },
   "outputs": [],
   "source": []
  }
 ],
 "metadata": {
  "kernelspec": {
   "display_name": "Python 3",
   "language": "python",
   "name": "python3"
  },
  "language_info": {
   "codemirror_mode": {
    "name": "ipython",
    "version": 3
   },
   "file_extension": ".py",
   "mimetype": "text/x-python",
   "name": "python",
   "nbconvert_exporter": "python",
   "pygments_lexer": "ipython3",
   "version": "3.4.3"
  }
 },
 "nbformat": 4,
 "nbformat_minor": 0
}
